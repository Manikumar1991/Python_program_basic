{
  "nbformat": 4,
  "nbformat_minor": 0,
  "metadata": {
    "colab": {
      "name": "8.Python_basic_Programm_Assig.ipynb",
      "provenance": [],
      "collapsed_sections": []
    },
    "kernelspec": {
      "name": "python3",
      "display_name": "Python 3"
    },
    "language_info": {
      "name": "python"
    }
  },
  "cells": [
    {
      "cell_type": "code",
      "execution_count": null,
      "metadata": {
        "colab": {
          "base_uri": "https://localhost:8080/"
        },
        "id": "widMYPc7DHTU",
        "outputId": "f25e61f9-7bd5-490d-e0a3-d339b608aeff"
      },
      "outputs": [
        {
          "output_type": "execute_result",
          "data": {
            "text/plain": [
              "array([[2, 4],\n",
              "       [6, 8]])"
            ]
          },
          "metadata": {},
          "execution_count": 4
        }
      ],
      "source": [
        "#1.Write a Python Program to Add Two Matrices?\n",
        "import numpy as np  # numpy module\n",
        "def add_mat(A,B):\n",
        "  A=np.array(A)\n",
        "  B=np.array(B)\n",
        "  return np.add(A,B)  \n",
        "add_mat([[1,2],[3,4]],[[1,2],[3,4]])      "
      ]
    },
    {
      "cell_type": "code",
      "source": [
        "#2.Write a Python Program to Multiply Two Matrices?\n",
        "import numpy as np\n",
        "def mult_mat(A,B):\n",
        "  A=np.array(A)\n",
        "  B=np.array(B)\n",
        "  return np.dot(A,B) \n",
        "mult_mat([[1,2],[3,4]],[[1,2],[3,4]])        \n"
      ],
      "metadata": {
        "colab": {
          "base_uri": "https://localhost:8080/"
        },
        "id": "LlXa45ZjECAo",
        "outputId": "0aaaaa39-452a-4cbb-e43e-c63558753091"
      },
      "execution_count": null,
      "outputs": [
        {
          "output_type": "execute_result",
          "data": {
            "text/plain": [
              "array([[ 7, 10],\n",
              "       [15, 22]])"
            ]
          },
          "metadata": {},
          "execution_count": 5
        }
      ]
    },
    {
      "cell_type": "code",
      "source": [
        "#3.Write a Python Program to Transpose a Matrix?\n",
        "import numpy as np\n",
        "def tranp_mat(A):\n",
        "  matrix=np.array(A)\n",
        "  return matrix.transpose()\n",
        "tranp_mat([[1,2],[3,4]])"
      ],
      "metadata": {
        "colab": {
          "base_uri": "https://localhost:8080/"
        },
        "id": "RAvJH3pNGxbk",
        "outputId": "f6da714a-ed55-4f7e-8bcd-d98059bf908f"
      },
      "execution_count": null,
      "outputs": [
        {
          "output_type": "execute_result",
          "data": {
            "text/plain": [
              "array([[1, 3],\n",
              "       [2, 4]])"
            ]
          },
          "metadata": {},
          "execution_count": 10
        }
      ]
    },
    {
      "cell_type": "code",
      "source": [
        "#4.Write a Python Program to Sort Words in Alphabetic Order?\n",
        "def sort_aplha():\n",
        "  str1=input()\n",
        "  words=[word.lower() for word in str1.split()]\n",
        "  words.sort()\n",
        "  print(\"The sorted words are:\")\n",
        "  for word in words:\n",
        "    print(word)\n",
        "sort_aplha()    \n"
      ],
      "metadata": {
        "colab": {
          "base_uri": "https://localhost:8080/"
        },
        "id": "F-_zwE42KNkb",
        "outputId": "3771b1ab-83a7-4252-a360-194fb0ff1828"
      },
      "execution_count": null,
      "outputs": [
        {
          "output_type": "stream",
          "name": "stdout",
          "text": [
            "This is my first ineuron python class\n",
            "The sorted words are:\n",
            "class\n",
            "first\n",
            "ineuron\n",
            "is\n",
            "my\n",
            "python\n",
            "this\n"
          ]
        }
      ]
    },
    {
      "cell_type": "code",
      "source": [
        "from numpy.testing._private.utils import clear_and_catch_warnings\n",
        "#5.Write a Python Program to Remove Punctuation From a String?\n",
        "def rem_punc():\n",
        "  punctuation= '''!()-[]{};:'\"\\, <>./?@#$%^&*_~'''\n",
        "  str2=input(\"Enter the string :\")\n",
        "  for char in str2.lower():\n",
        "    if char in punctuation:\n",
        "      str2=str2.replace(char,\" \")\n",
        "  return \"The new string \",str2    \n",
        "rem_punc()      "
      ],
      "metadata": {
        "colab": {
          "base_uri": "https://localhost:8080/"
        },
        "id": "plLQ5wpKKStG",
        "outputId": "2cb8ef0d-6371-474c-993c-da827322da86"
      },
      "execution_count": null,
      "outputs": [
        {
          "name": "stdout",
          "output_type": "stream",
          "text": [
            "Enter the string :@##$%^&&1561718manihajjakas!&&!(!\n"
          ]
        },
        {
          "output_type": "execute_result",
          "data": {
            "text/plain": [
              "('The new string ', '        1561718manihajjakas      ')"
            ]
          },
          "metadata": {},
          "execution_count": 23
        }
      ]
    },
    {
      "cell_type": "code",
      "source": [
        ""
      ],
      "metadata": {
        "id": "pIBW6x4kdEIR"
      },
      "execution_count": null,
      "outputs": []
    }
  ]
}