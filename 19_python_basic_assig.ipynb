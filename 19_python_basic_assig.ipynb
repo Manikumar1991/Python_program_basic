{
  "nbformat": 4,
  "nbformat_minor": 0,
  "metadata": {
    "colab": {
      "name": "19.python_basic_assig.ipynb",
      "provenance": [],
      "collapsed_sections": []
    },
    "kernelspec": {
      "name": "python3",
      "display_name": "Python 3"
    },
    "language_info": {
      "name": "python"
    }
  },
  "cells": [
    {
      "cell_type": "code",
      "execution_count": null,
      "metadata": {
        "id": "iK9nxKYsvAs-"
      },
      "outputs": [],
      "source": [
        "'''\n",
        "1.Make a class called Thing with no contents and print it. Then, create an object called example from this class and also print it. Are the printed values \n",
        "the same or different?\n",
        "'''"
      ]
    },
    {
      "cell_type": "code",
      "source": [
        "class Thing:\n",
        "  pass"
      ],
      "metadata": {
        "id": "5VZf5Y1HFQ2-"
      },
      "execution_count": null,
      "outputs": []
    },
    {
      "cell_type": "code",
      "source": [
        "example=Thing()"
      ],
      "metadata": {
        "id": "eKSPYVExFaQN"
      },
      "execution_count": null,
      "outputs": []
    },
    {
      "cell_type": "code",
      "source": [
        "print(Thing)\n",
        "print(example)"
      ],
      "metadata": {
        "colab": {
          "base_uri": "https://localhost:8080/"
        },
        "id": "AL1Eid70GeHN",
        "outputId": "521ebf42-635c-4ac6-e136-e92f7581314b"
      },
      "execution_count": null,
      "outputs": [
        {
          "output_type": "stream",
          "name": "stdout",
          "text": [
            "<class '__main__.Thing'>\n",
            "<__main__.Thing object at 0x7f83b817a950>\n"
          ]
        }
      ]
    },
    {
      "cell_type": "code",
      "source": [
        "#2.Create a new class called Thing2 and add the value 'abc' to the letters class attribute. Letters should be printed.\n",
        "class Thing2:\n",
        "  letters='abc'"
      ],
      "metadata": {
        "id": "lQBAD2NoGggi"
      },
      "execution_count": null,
      "outputs": []
    },
    {
      "cell_type": "code",
      "source": [
        "Thing2.letters"
      ],
      "metadata": {
        "colab": {
          "base_uri": "https://localhost:8080/",
          "height": 35
        },
        "id": "D1P1tIScHNYJ",
        "outputId": "8817153b-be34-4e11-a2e5-af6ecfeec157"
      },
      "execution_count": null,
      "outputs": [
        {
          "output_type": "execute_result",
          "data": {
            "application/vnd.google.colaboratory.intrinsic+json": {
              "type": "string"
            },
            "text/plain": [
              "'abc'"
            ]
          },
          "metadata": {},
          "execution_count": 12
        }
      ]
    },
    {
      "cell_type": "code",
      "source": [
        "'''\n",
        "3.Make yet another class called, of course, Thing3. This time, assign the value 'xyz' to an instance (object) attribute called letters. Print letters. \n",
        "Do you need to make an object from the class to do this?\n",
        "'''\n",
        "class Thing3:\n",
        "  def __init__(self):\n",
        "    self.letters='xyz'\n",
        "\n",
        "\n",
        "\n",
        "  "
      ],
      "metadata": {
        "id": "hs2T8nqRHPxe"
      },
      "execution_count": 5,
      "outputs": []
    },
    {
      "cell_type": "code",
      "source": [
        "print(Thing3.letters) # Variable belongs to any object form Thing3, not to the class"
      ],
      "metadata": {
        "colab": {
          "base_uri": "https://localhost:8080/",
          "height": 166
        },
        "id": "NVIgqH0FcXYx",
        "outputId": "de907c82-f3a2-41b9-c818-7152bb5a4ecf"
      },
      "execution_count": 7,
      "outputs": [
        {
          "output_type": "error",
          "ename": "AttributeError",
          "evalue": "ignored",
          "traceback": [
            "\u001b[0;31m---------------------------------------------------------------------------\u001b[0m",
            "\u001b[0;31mAttributeError\u001b[0m                            Traceback (most recent call last)",
            "\u001b[0;32m<ipython-input-7-6f5d5916809a>\u001b[0m in \u001b[0;36m<module>\u001b[0;34m()\u001b[0m\n\u001b[0;32m----> 1\u001b[0;31m \u001b[0mprint\u001b[0m\u001b[0;34m(\u001b[0m\u001b[0mThing3\u001b[0m\u001b[0;34m.\u001b[0m\u001b[0mletters\u001b[0m\u001b[0;34m)\u001b[0m\u001b[0;34m\u001b[0m\u001b[0;34m\u001b[0m\u001b[0m\n\u001b[0m",
            "\u001b[0;31mAttributeError\u001b[0m: type object 'Thing3' has no attribute 'letters'"
          ]
        }
      ]
    },
    {
      "cell_type": "code",
      "source": [
        "t=Thing3()\n",
        "t.letters"
      ],
      "metadata": {
        "colab": {
          "base_uri": "https://localhost:8080/",
          "height": 35
        },
        "id": "cn3WyNc8czHJ",
        "outputId": "f3c83d98-3006-418d-d04c-3103defdcd96"
      },
      "execution_count": 8,
      "outputs": [
        {
          "output_type": "execute_result",
          "data": {
            "application/vnd.google.colaboratory.intrinsic+json": {
              "type": "string"
            },
            "text/plain": [
              "'xyz'"
            ]
          },
          "metadata": {},
          "execution_count": 8
        }
      ]
    },
    {
      "cell_type": "code",
      "source": [
        "#4.Create an Element class with the instance attributes name, symbol, and number. Create a class object with the values 'Hydrogen,' 'H,' and 1.\n",
        "class Element:\n",
        "  def __init__(self,name,symbol,number):\n",
        "    self.name=name\n",
        "    self.symbol=symbol\n",
        "    self.number=number"
      ],
      "metadata": {
        "id": "RvsSMuqAdQoZ"
      },
      "execution_count": 17,
      "outputs": []
    },
    {
      "cell_type": "code",
      "source": [
        "obj=Element('Hydrogen','H',1)\n",
        "obj"
      ],
      "metadata": {
        "colab": {
          "base_uri": "https://localhost:8080/"
        },
        "id": "SsiMe_PId26m",
        "outputId": "4b0ac5d5-6a9e-45b3-d72f-90e9f29dbe8e"
      },
      "execution_count": 19,
      "outputs": [
        {
          "output_type": "execute_result",
          "data": {
            "text/plain": [
              "<__main__.Element at 0x7ff4accf1550>"
            ]
          },
          "metadata": {},
          "execution_count": 19
        }
      ]
    },
    {
      "cell_type": "code",
      "source": [
        "class Element:\n",
        "    def __init__(self, name, symbol, number):\n",
        "        self.name = name\n",
        "        self.symbol = symbol\n",
        "        self.number = number\n",
        "hydrogen = Element('Hydrogen', 'H', 1)"
      ],
      "metadata": {
        "id": "LzTXfJmfd9u8"
      },
      "execution_count": 16,
      "outputs": []
    },
    {
      "cell_type": "code",
      "source": [
        "'''\n",
        "5. Make a dictionary with these keys and values: 'name': 'Hydrogen', 'symbol': 'H', 'number': 1. \n",
        "Then, create an object called hydrogen from class Element using this dictionary.\n",
        "'''"
      ],
      "metadata": {
        "id": "jnQE7y0yfH0B"
      },
      "execution_count": null,
      "outputs": []
    },
    {
      "cell_type": "code",
      "source": [
        "d={'name': 'Hydrogen', 'symbol': 'H', 'number': 1}\n",
        "hydrogen=Element(d['name'],d['symbol'],d['number'])\n",
        "print(hydrogen)"
      ],
      "metadata": {
        "colab": {
          "base_uri": "https://localhost:8080/"
        },
        "id": "ni60McFEfbaJ",
        "outputId": "bce702d3-dd2c-4a90-88e7-d6dc7b4469f0"
      },
      "execution_count": 26,
      "outputs": [
        {
          "output_type": "stream",
          "name": "stdout",
          "text": [
            "<__main__.Element object at 0x7ff4a53aaf90>\n"
          ]
        }
      ]
    },
    {
      "cell_type": "code",
      "source": [
        "'''\n",
        "6. For the Element class, define a method called dump() that prints the values of the object’s attributes (name, symbol, and number). \n",
        "Create the hydrogen object from this new definition and use dump() to print its attributes.\n",
        "'''"
      ],
      "metadata": {
        "id": "CRfhOMT0fuWQ"
      },
      "execution_count": null,
      "outputs": []
    },
    {
      "cell_type": "code",
      "source": [
        "class Element:\n",
        "    def __init__(self, name, symbol, number):\n",
        "        self.name = name\n",
        "        self.symbol = symbol\n",
        "        self.number = number\n",
        "    def dumps(self):\n",
        "      return f\"'name' :{self.name} ,'symbol':{self.symbol},'number':{self.number}\""
      ],
      "metadata": {
        "id": "0a2Nc47qgSy6"
      },
      "execution_count": 34,
      "outputs": []
    },
    {
      "cell_type": "code",
      "source": [
        "hydrogen=Element(d['name'],d['symbol'],d['number'])"
      ],
      "metadata": {
        "id": "SHVXMayqgw-s"
      },
      "execution_count": 35,
      "outputs": []
    },
    {
      "cell_type": "code",
      "source": [
        "hydrogen.dumps"
      ],
      "metadata": {
        "colab": {
          "base_uri": "https://localhost:8080/"
        },
        "id": "6XSAELMDg5_F",
        "outputId": "b1217366-0b77-48f3-fba4-d6b512c9cd27"
      },
      "execution_count": 36,
      "outputs": [
        {
          "output_type": "execute_result",
          "data": {
            "text/plain": [
              "<bound method Element.dumps of <__main__.Element object at 0x7ff4a532d2d0>>"
            ]
          },
          "metadata": {},
          "execution_count": 36
        }
      ]
    },
    {
      "cell_type": "code",
      "source": [
        "print(hydrogen.dumps())"
      ],
      "metadata": {
        "colab": {
          "base_uri": "https://localhost:8080/"
        },
        "id": "I130Qvfkg775",
        "outputId": "3f1b1c9b-4cdd-42f4-9872-e9aea67e467a"
      },
      "execution_count": 37,
      "outputs": [
        {
          "output_type": "stream",
          "name": "stdout",
          "text": [
            "'name' :Hydrogen ,'symbol':H,'number':1\n"
          ]
        }
      ]
    },
    {
      "cell_type": "code",
      "source": [
        "'''\n",
        "7. Call print(hydrogen). In the definition of Element, change the name of method dump to __str__, create a new hydrogen object, \n",
        "and call print(hydrogen) again.\n",
        "'''"
      ],
      "metadata": {
        "id": "BWTFi8HQhB12"
      },
      "execution_count": null,
      "outputs": []
    },
    {
      "cell_type": "code",
      "source": [
        "class Element1:\n",
        "    def __init__(self, name, symbol, number):\n",
        "        self.name = name\n",
        "        self.symbol = symbol\n",
        "        self.number = number\n",
        "    def __str__(self):\n",
        "      return f\" 'name' :{self.name} ,'symbol':{self.symbol},'number':{self.number} \""
      ],
      "metadata": {
        "id": "iCC0XjH_hVR7"
      },
      "execution_count": 47,
      "outputs": []
    },
    {
      "cell_type": "code",
      "source": [
        "hydrogen=Element1(**d)"
      ],
      "metadata": {
        "id": "3nM5uvd8hxIa"
      },
      "execution_count": 48,
      "outputs": []
    },
    {
      "cell_type": "code",
      "source": [
        "print(hydrogen)"
      ],
      "metadata": {
        "colab": {
          "base_uri": "https://localhost:8080/"
        },
        "id": "267-DfQsh2sT",
        "outputId": "246c25a4-1c3f-4e08-80a7-b97cdb4f8a68"
      },
      "execution_count": 49,
      "outputs": [
        {
          "output_type": "stream",
          "name": "stdout",
          "text": [
            " 'name' :Hydrogen ,'symbol':H,'number':1 \n"
          ]
        }
      ]
    },
    {
      "cell_type": "code",
      "source": [
        "#8.Modify Element to make the attributes name, symbol, and number private. Define a getter property for each to return its value.\n",
        "class Element:\n",
        "    def __init__(self, name, symbol, number):\n",
        "        self.__name = name\n",
        "        self.__symbol = symbol\n",
        "        self.__number = number\n",
        "    @property    \n",
        "    def name(self):\n",
        "        return self.__name\n",
        "    @property\n",
        "    def symbol(self):\n",
        "        return self.__symbol\n",
        "    @property\n",
        "    def number(self):\n",
        "        return self.__number\n",
        "hydrogen = Element('Hydrogen', 'H', 1)"
      ],
      "metadata": {
        "id": "hCTO8COih31R"
      },
      "execution_count": 1,
      "outputs": []
    },
    {
      "cell_type": "code",
      "source": [
        "hydrogen.name"
      ],
      "metadata": {
        "colab": {
          "base_uri": "https://localhost:8080/",
          "height": 35
        },
        "id": "cYk9sVqNB8CV",
        "outputId": "c85e8974-8685-430f-90a5-066fbd7f26a9"
      },
      "execution_count": 2,
      "outputs": [
        {
          "output_type": "execute_result",
          "data": {
            "application/vnd.google.colaboratory.intrinsic+json": {
              "type": "string"
            },
            "text/plain": [
              "'Hydrogen'"
            ]
          },
          "metadata": {},
          "execution_count": 2
        }
      ]
    },
    {
      "cell_type": "code",
      "source": [
        "hydrogen.symbol"
      ],
      "metadata": {
        "colab": {
          "base_uri": "https://localhost:8080/",
          "height": 35
        },
        "id": "l0GHzgkpB98q",
        "outputId": "d4a5d28c-4f7a-49d8-879a-11f889713ad7"
      },
      "execution_count": 3,
      "outputs": [
        {
          "output_type": "execute_result",
          "data": {
            "application/vnd.google.colaboratory.intrinsic+json": {
              "type": "string"
            },
            "text/plain": [
              "'H'"
            ]
          },
          "metadata": {},
          "execution_count": 3
        }
      ]
    },
    {
      "cell_type": "code",
      "source": [
        "hydrogen.number"
      ],
      "metadata": {
        "colab": {
          "base_uri": "https://localhost:8080/"
        },
        "id": "bG--nMwwCA4z",
        "outputId": "0f8bfd7d-424d-4057-9aa0-51175225c019"
      },
      "execution_count": 4,
      "outputs": [
        {
          "output_type": "execute_result",
          "data": {
            "text/plain": [
              "1"
            ]
          },
          "metadata": {},
          "execution_count": 4
        }
      ]
    },
    {
      "cell_type": "code",
      "source": [
        "'''\n",
        "9. Define three classes: Bear, Rabbit, and Octothorpe. For each, define only one method: eats(). This should return 'berries' (Bear), 'clover' (Rabbit), \n",
        "or 'campers' (Octothorpe). Create one object from each and print what it eats.\n",
        "'''\n",
        "class Bear:\n",
        "  def eats(self):\n",
        "    return 'berries'\n",
        "class Rabbit:\n",
        "  def eats(self):\n",
        "    return 'clover'\n",
        "class Octothorpe:\n",
        "  def eats(self):\n",
        "    return 'campers'        "
      ],
      "metadata": {
        "id": "jzMtF7UdCDzf"
      },
      "execution_count": 8,
      "outputs": []
    },
    {
      "cell_type": "code",
      "source": [
        "b=Bear()\n",
        "r=Rabbit()\n",
        "o=Octothorpe()"
      ],
      "metadata": {
        "id": "ZUuHXIcIDFr4"
      },
      "execution_count": 9,
      "outputs": []
    },
    {
      "cell_type": "code",
      "source": [
        "print(b.eats())\n",
        "print(r.eats())\n",
        "print(o.eats())"
      ],
      "metadata": {
        "colab": {
          "base_uri": "https://localhost:8080/"
        },
        "id": "flJYCsy1DN7p",
        "outputId": "5054f74a-0d3c-4dde-884a-bfbdfcaf0120"
      },
      "execution_count": 10,
      "outputs": [
        {
          "output_type": "stream",
          "name": "stdout",
          "text": [
            "berries\n",
            "clover\n",
            "campers\n"
          ]
        }
      ]
    },
    {
      "cell_type": "code",
      "source": [
        "'''\n",
        "10. Define these classes: Laser, Claw, and SmartPhone. Each has only one method: does(). This returns 'disintegrate' (Laser), 'crush' (Claw), or 'ring' \n",
        "(SmartPhone). Then, define the class Robot that has one instance (object) of each of these. \n",
        "Define a does() method for the Robot that prints what its component objects do.\n",
        "'''"
      ],
      "metadata": {
        "id": "TiiHIO2HDUy8"
      },
      "execution_count": null,
      "outputs": []
    },
    {
      "cell_type": "code",
      "source": [
        "class Laser:\n",
        "  def does(self):\n",
        "    return 'disintegrate'\n",
        "class Claw:\n",
        "  def does(self):\n",
        "    return 'crush'   \n",
        "class SmartPhone:\n",
        "  def does(self):\n",
        "    return 'ring'\n",
        "class Robot:\n",
        "  def __init__(self):\n",
        "    self.laser=Laser()\n",
        "    self.claw=Claw()\n",
        "    self.smartphone=SmartPhone()\n",
        "  def does(self):\n",
        "    return f\" laser :{self.laser.does()} , claw :{self.claw.does()} , smartphone :{self.smartphone.does()}\"            "
      ],
      "metadata": {
        "id": "yNA7iF3GD-Nn"
      },
      "execution_count": 16,
      "outputs": []
    },
    {
      "cell_type": "code",
      "source": [
        "d=Robot()"
      ],
      "metadata": {
        "id": "gS6P2iLuFCkv"
      },
      "execution_count": 17,
      "outputs": []
    },
    {
      "cell_type": "code",
      "source": [
        "d.does()"
      ],
      "metadata": {
        "colab": {
          "base_uri": "https://localhost:8080/",
          "height": 35
        },
        "id": "3WGB4hcYFFd5",
        "outputId": "779c5976-59dc-4cc8-fb2c-f685e227be33"
      },
      "execution_count": 18,
      "outputs": [
        {
          "output_type": "execute_result",
          "data": {
            "application/vnd.google.colaboratory.intrinsic+json": {
              "type": "string"
            },
            "text/plain": [
              "' laser :disintegrate , claw :crush , smartphone :ring'"
            ]
          },
          "metadata": {},
          "execution_count": 18
        }
      ]
    }
  ]
}