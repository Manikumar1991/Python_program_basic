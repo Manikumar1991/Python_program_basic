{
  "nbformat": 4,
  "nbformat_minor": 0,
  "metadata": {
    "colab": {
      "name": "Python_basic_Programm_Assignment_4ipynb",
      "provenance": [],
      "collapsed_sections": []
    },
    "kernelspec": {
      "name": "python3",
      "display_name": "Python 3"
    },
    "language_info": {
      "name": "python"
    }
  },
  "cells": [
    {
      "cell_type": "code",
      "execution_count": null,
      "metadata": {
        "colab": {
          "base_uri": "https://localhost:8080/"
        },
        "id": "2TYlZrv8-d16",
        "outputId": "1b545d6d-4dba-4be6-c5f3-f71ee98e67a6"
      },
      "outputs": [
        {
          "output_type": "execute_result",
          "data": {
            "text/plain": [
              "24"
            ]
          },
          "metadata": {},
          "execution_count": 4
        }
      ],
      "source": [
        "#1.Write a Python Program to Find the Factorial of a Number?\n",
        "def factorial(n):\n",
        "  if n==1:\n",
        "    return 1\n",
        "  else:\n",
        "    return (n*factorial(n-1))  \n",
        "  return fact\n",
        "factorial(4)"
      ]
    },
    {
      "cell_type": "code",
      "source": [
        "#2.Write a Python Program to Display the multiplication Table?\n",
        "def multable(n,x):\n",
        "  for i in range(x):\n",
        "    print(n,\"X\",i,\"=\" ,n*i)\n",
        "multable(9,21)    \n"
      ],
      "metadata": {
        "id": "1y1J6KHsAItg",
        "colab": {
          "base_uri": "https://localhost:8080/"
        },
        "outputId": "0d27395f-f117-4d8f-cddc-563d4db43e1f"
      },
      "execution_count": null,
      "outputs": [
        {
          "output_type": "stream",
          "name": "stdout",
          "text": [
            "9 X 0 = 0\n",
            "9 X 1 = 9\n",
            "9 X 2 = 18\n",
            "9 X 3 = 27\n",
            "9 X 4 = 36\n",
            "9 X 5 = 45\n",
            "9 X 6 = 54\n",
            "9 X 7 = 63\n",
            "9 X 8 = 72\n",
            "9 X 9 = 81\n",
            "9 X 10 = 90\n",
            "9 X 11 = 99\n",
            "9 X 12 = 108\n",
            "9 X 13 = 117\n",
            "9 X 14 = 126\n",
            "9 X 15 = 135\n",
            "9 X 16 = 144\n",
            "9 X 17 = 153\n",
            "9 X 18 = 162\n",
            "9 X 19 = 171\n",
            "9 X 20 = 180\n"
          ]
        }
      ]
    },
    {
      "cell_type": "code",
      "source": [
        "#3.Write a Python Program to Print the Fibonacci sequence?\n",
        "def fibn(n):\n",
        "  a=0\n",
        "  b=1\n",
        "  if n==1:\n",
        "    print(a)\n",
        "  else:\n",
        "    print(a , end=\" \")\n",
        "    print(b , end =\" \")\n",
        "    for i in range(2,n):\n",
        "      c=a+b\n",
        "      a=b\n",
        "      b=c\n",
        "      print(c, end= \" \") \n",
        "fibn(10)    "
      ],
      "metadata": {
        "colab": {
          "base_uri": "https://localhost:8080/"
        },
        "id": "R7YKm_R1RgYW",
        "outputId": "3cd58bc5-d001-4f6e-f94d-047fdf8aa988"
      },
      "execution_count": 29,
      "outputs": [
        {
          "output_type": "stream",
          "name": "stdout",
          "text": [
            "0 1 1 2 3 5 8 13 21 34 "
          ]
        }
      ]
    },
    {
      "cell_type": "code",
      "source": [
        "#4.Write a Python Program to Check Armstrong Number?\n",
        "def Armstrong(num):\n",
        "  sum=0\n",
        "  temp=num\n",
        "  while temp>0:\n",
        "    digit=temp%10\n",
        "    sum=sum+digit**3\n",
        "    temp=temp//10\n",
        "  if num==sum:\n",
        "    print(num,\"is an Armstrong number\")\n",
        "  else:\n",
        "    print(num,\"is not an Armstrong number\")\n",
        "\n",
        "Armstrong(407)\n",
        "\n"
      ],
      "metadata": {
        "id": "LtaHfJZLSQWN",
        "colab": {
          "base_uri": "https://localhost:8080/"
        },
        "outputId": "583d20d7-edbb-4c35-869d-314cbd54ddfb"
      },
      "execution_count": 17,
      "outputs": [
        {
          "output_type": "stream",
          "name": "stdout",
          "text": [
            "407 is an Armstrong number\n"
          ]
        }
      ]
    },
    {
      "cell_type": "code",
      "source": [
        "#5.Write a Python Program to Find Armstrong Number in an Interval?\n",
        "def Armstrong(a,b):\n",
        "  for i in range(a,b+1):\n",
        "    order=len(str(i))#order of the number\n",
        "    sum=0 # Initilize sum\n",
        "    temp=i\n",
        "    while temp>0:\n",
        "      digit=temp%10\n",
        "      sum=sum+digit**order\n",
        "      temp=temp//10\n",
        "    if sum==i:\n",
        "      print(i,\"is an Armstrong number\")\n",
        "    #else:\n",
        "      #print(i,\"is not an Armstrong number\")\n",
        "Armstrong(1,10000)      "
      ],
      "metadata": {
        "id": "EuQUXZnKZG4u",
        "colab": {
          "base_uri": "https://localhost:8080/"
        },
        "outputId": "a81d751f-5f7f-4300-c8a3-a9603451586f"
      },
      "execution_count": 22,
      "outputs": [
        {
          "output_type": "stream",
          "name": "stdout",
          "text": [
            "1 is an Armstrong number\n",
            "2 is an Armstrong number\n",
            "3 is an Armstrong number\n",
            "4 is an Armstrong number\n",
            "5 is an Armstrong number\n",
            "6 is an Armstrong number\n",
            "7 is an Armstrong number\n",
            "8 is an Armstrong number\n",
            "9 is an Armstrong number\n",
            "153 is an Armstrong number\n",
            "370 is an Armstrong number\n",
            "371 is an Armstrong number\n",
            "407 is an Armstrong number\n",
            "1634 is an Armstrong number\n",
            "8208 is an Armstrong number\n",
            "9474 is an Armstrong number\n"
          ]
        }
      ]
    },
    {
      "cell_type": "code",
      "source": [
        "#6.Write a Python Program to Find the Sum of Natural Numbers?\n",
        "def sum_nat():\n",
        "  n=int(input())\n",
        "  sum=0\n",
        "  for i in range(n+1):\n",
        "    sum=sum+i\n",
        "  return sum\n",
        "sum_nat()  \n"
      ],
      "metadata": {
        "colab": {
          "base_uri": "https://localhost:8080/"
        },
        "id": "h83lRMoiZMqu",
        "outputId": "6c294a34-19ce-4bfc-a066-d64b416ce02e"
      },
      "execution_count": null,
      "outputs": [
        {
          "name": "stdout",
          "output_type": "stream",
          "text": [
            "10\n"
          ]
        },
        {
          "output_type": "execute_result",
          "data": {
            "text/plain": [
              "55"
            ]
          },
          "metadata": {},
          "execution_count": 29
        }
      ]
    },
    {
      "cell_type": "code",
      "source": [
        ""
      ],
      "metadata": {
        "id": "h580Z1ZfZkq8"
      },
      "execution_count": null,
      "outputs": []
    }
  ]
}