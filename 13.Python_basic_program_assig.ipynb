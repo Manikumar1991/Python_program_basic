{
 "cells": [
  {
   "cell_type": "markdown",
   "id": "2793084c",
   "metadata": {},
   "source": [
    "Write a program that calculates and prints the value according to the given formula:\n",
    "\n",
    "Q = Square root of [(2 * C * D)/H]\n",
    "\n",
    "Following are the fixed values of C and H:\n",
    "\n",
    "C is 50. H is 30.\n",
    "\n",
    "D is the variable whose values should be input to your program in a comma-separated sequence.\n",
    "\n",
    "Example\n",
    "\n",
    "Let us assume the following comma separated input sequence is given to the program:\n",
    "\n",
    "100,150,180\n",
    "\n",
    "The output of the program should be:\n",
    "\n",
    "18,22,24\n"
   ]
  },
  {
   "cell_type": "code",
   "execution_count": 6,
   "id": "6ad78d76",
   "metadata": {},
   "outputs": [
    {
     "ename": "SyntaxError",
     "evalue": "invalid syntax (Temp/ipykernel_4844/1723381636.py, line 11)",
     "output_type": "error",
     "traceback": [
      "\u001b[1;36m  File \u001b[1;32m\"C:\\Users\\Admin\\AppData\\Local\\Temp/ipykernel_4844/1723381636.py\"\u001b[1;36m, line \u001b[1;32m11\u001b[0m\n\u001b[1;33m    sqrt([100,150,180])\u001b[0m\n\u001b[1;37m    ^\u001b[0m\n\u001b[1;31mSyntaxError\u001b[0m\u001b[1;31m:\u001b[0m invalid syntax\n"
     ]
    }
   ],
   "source": [
    "import math as m\n",
    "def sqrt_q(d):\n",
    "    c=50\n",
    "    h=30\n",
    "    empty_list=[]\n",
    "    try:\n",
    "        for i in d:\n",
    "            q=m.sqrt((2*c*int(d)/h)\n",
    "            #print(q) \n",
    "                                 empty_list.append(q)         \n",
    "        print(empty_list)\n",
    "    except Exception as e:\n",
    "        print(e)\n",
    "\n",
    "sqrt([100,150,180])                     \n",
    "                     "
   ]
  },
  {
   "cell_type": "code",
   "execution_count": 21,
   "id": "2b81aa83",
   "metadata": {},
   "outputs": [
    {
     "data": {
      "text/plain": [
       "[18, 22, 24]"
      ]
     },
     "execution_count": 21,
     "metadata": {},
     "output_type": "execute_result"
    }
   ],
   "source": [
    "import math as m\n",
    "def sqrt_q(d):\n",
    "    c=50\n",
    "    h=30\n",
    "    lst=[]\n",
    "    try:\n",
    "        for i in d:\n",
    "            q=m.sqrt(((2*c*int(i))/h))\n",
    "            lst.append(round(q))\n",
    "        return lst\n",
    "    except Exception as e:\n",
    "        print(e)\n",
    "sqrt_q([100,150,180])        \n",
    "            "
   ]
  },
  {
   "cell_type": "markdown",
   "id": "73c71980",
   "metadata": {},
   "source": [
    "Question 2:\n",
    "Write a program which takes 2 digits, X,Y as input and generates a 2-dimensional array. The element value in the i-th row and j-th column of the array should be i*j.\n",
    "\n",
    "Note: i=0,1.., X-1; j=0,1,¡¬Y-1.\n",
    "\n",
    "Example\n",
    "\n",
    "Suppose the following inputs are given to the program:\n",
    "\n",
    "3,5\n",
    "\n",
    "Then, the output of the program should be:\n",
    "\n",
    "[[0, 0, 0, 0, 0], [0, 1, 2, 3, 4], [0, 2, 4, 6, 8]] \n",
    "\n",
    "  "
   ]
  },
  {
   "cell_type": "code",
   "execution_count": 25,
   "id": "425d142e",
   "metadata": {},
   "outputs": [
    {
     "name": "stdout",
     "output_type": "stream",
     "text": [
      "Enter the number of rows :3\n",
      "Enter the number of columns :4\n"
     ]
    },
    {
     "data": {
      "text/plain": [
       "[[0, 0, 0, 0], [0, 1, 2, 3], [0, 2, 4, 6]]"
      ]
     },
     "execution_count": 25,
     "metadata": {},
     "output_type": "execute_result"
    }
   ],
   "source": [
    "def matrix():\n",
    "    x=int(input(\"Enter the number of rows :\"))\n",
    "    y=int(input(\"Enter the number of columns :\"))\n",
    "    mat_dim=[[0 for col in range(y)] for row in range(x)]\n",
    "    for i in range(x):\n",
    "        for j in range(y):\n",
    "            mat_dim[i][j]=i*j\n",
    "    return mat_dim\n",
    "matrix()\n",
    "            \n",
    "        "
   ]
  },
  {
   "cell_type": "markdown",
   "id": "29f71358",
   "metadata": {},
   "source": [
    "Question 3:\n",
    "Write a program that accepts a comma separated sequence of words as input and prints the words in a comma-separated sequence after sorting them alphabetically.\n",
    "\n",
    "Suppose the following input is supplied to the program:\n",
    "\n",
    "without,hello,bag,world\n",
    "\n",
    "Then, the output should be:\n",
    "\n",
    "bag,hello,without,world\n"
   ]
  },
  {
   "cell_type": "code",
   "execution_count": 53,
   "id": "84a5b0cb",
   "metadata": {},
   "outputs": [
    {
     "name": "stdout",
     "output_type": "stream",
     "text": [
      "Enter the words :without,hello,bag,world\n"
     ]
    },
    {
     "data": {
      "text/plain": [
       "'bag,hello,without,world'"
      ]
     },
     "execution_count": 53,
     "metadata": {},
     "output_type": "execute_result"
    }
   ],
   "source": [
    "def func3():\n",
    "    words=input(\"Enter the words :\")\n",
    "    words1=words.split(',')\n",
    "    #print(words1)\n",
    "    words1.sort()\n",
    "    #print(words1)\n",
    "    y=','.join(words1)\n",
    "    return y    \n",
    "func3()\n",
    "        "
   ]
  },
  {
   "cell_type": "markdown",
   "id": "5c9d7ec8",
   "metadata": {},
   "source": [
    "Question 4:\n",
    "Write a program that accepts a sequence of whitespace separated words as input and prints the words after removing all duplicate words and sorting them alphanumerically.\n",
    "\n",
    "Suppose the following input is supplied to the program:\n",
    "\n",
    "hello world and practice makes perfect and hello world again\n",
    "\n",
    "Then, the output should be:\n",
    "\n",
    "again and hello makes perfect practice world\n"
   ]
  },
  {
   "cell_type": "code",
   "execution_count": 68,
   "id": "fc83b006",
   "metadata": {},
   "outputs": [
    {
     "name": "stdout",
     "output_type": "stream",
     "text": [
      "Enter the string :hello world and practice makes perfect and hello world again\n",
      "['hello', 'world', 'and', 'practice', 'makes', 'perfect', 'and', 'hello', 'world', 'again']\n"
     ]
    },
    {
     "data": {
      "text/plain": [
       "['again', 'and', 'hello', 'makes', 'perfect', 'practice', 'world']"
      ]
     },
     "execution_count": 68,
     "metadata": {},
     "output_type": "execute_result"
    }
   ],
   "source": [
    "def func4():\n",
    "    str=input(\"Enter the string :\")\n",
    "    s=str.split()\n",
    "    print(s)\n",
    "    \n",
    "    l=[]\n",
    "    for i in s:\n",
    "        if i not in l:\n",
    "            l.append(i)\n",
    "    l.sort()\n",
    "    return l\n",
    "func4()"
   ]
  },
  {
   "cell_type": "markdown",
   "id": "634ac98d",
   "metadata": {},
   "source": [
    "Question 5:\n",
    "Write a program that accepts a sentence and calculate the number of letters and digits.\n",
    "\n",
    "Suppose the following input is supplied to the program:\n",
    "\n",
    "hello world! 123\n",
    "\n",
    "Then, the output should be:\n",
    "\n",
    "LETTERS 10\n",
    "\n",
    "DIGITS 3\n"
   ]
  },
  {
   "cell_type": "code",
   "execution_count": 6,
   "id": "4b0005d3",
   "metadata": {},
   "outputs": [
    {
     "name": "stdout",
     "output_type": "stream",
     "text": [
      "Enter the string :hello world! 123\n"
     ]
    },
    {
     "data": {
      "text/plain": [
       "('LETTERS :', 10, 'DIGITS :', 3)"
      ]
     },
     "execution_count": 6,
     "metadata": {},
     "output_type": "execute_result"
    }
   ],
   "source": [
    "def func5():\n",
    "    s=input(\"Enter the string :\")\n",
    "    count=0\n",
    "    count1=0\n",
    "    for i in s:\n",
    "        if i.isalpha()==True:\n",
    "            count=count+1\n",
    "        elif i.isnumeric()==True:\n",
    "            count1=count1+1\n",
    "    return 'LETTERS :',count, \"DIGITS :\",count1\n",
    "func5()\n",
    "         \n",
    "    "
   ]
  },
  {
   "cell_type": "code",
   "execution_count": 79,
   "id": "84b2fb80",
   "metadata": {},
   "outputs": [
    {
     "name": "stdout",
     "output_type": "stream",
     "text": [
      "10 3\n"
     ]
    }
   ],
   "source": [
    "count=0\n",
    "count1=0\n",
    "for i in s:\n",
    "    if i.isalpha()==True:\n",
    "        count=count+1\n",
    "    elif i.isnumeric()==True:\n",
    "        count1=count1+1\n",
    "print(count,count1)        "
   ]
  },
  {
   "cell_type": "markdown",
   "id": "9eb6995f",
   "metadata": {},
   "source": [
    "Question 6:\n",
    "A website requires the users to input username and password to register. Write a program to check the validity of password input by users.\n",
    "\n",
    "Following are the criteria for checking the password:\n",
    "\n",
    "1. At least 1 letter between [a-z]\n",
    "\n",
    "2. At least 1 number between [0-9]\n",
    "\n",
    "1. At least 1 letter between [A-Z]\n",
    "\n",
    "3. At least 1 character from [$#@]\n",
    "\n",
    "4. Minimum length of transaction password: 6\n",
    "\n",
    "5. Maximum length of transaction password: 12\n",
    "\n",
    "Your program should accept a sequence of comma separated passwords and will check them according to the above criteria. Passwords that match the criteria are to be printed, each separated by a comma.\n",
    "\n",
    "Example\n",
    "\n",
    "If the following passwords are given as input to the program:\n",
    "\n",
    "ABd1234@1,a F1#,2w3E*,2We3345\n",
    "\n",
    "Then, the output of the program should be:\n",
    "\n",
    "ABd1234@1\n"
   ]
  },
  {
   "cell_type": "code",
   "execution_count": 12,
   "id": "58fe60ae",
   "metadata": {},
   "outputs": [
    {
     "name": "stdout",
     "output_type": "stream",
     "text": [
      "Enter the passwords :ABd1234@1,a F1#,2w3E*,2We3345\n"
     ]
    },
    {
     "data": {
      "text/plain": [
       "'ABd1234@1'"
      ]
     },
     "execution_count": 12,
     "metadata": {},
     "output_type": "execute_result"
    }
   ],
   "source": [
    "import re\n",
    "def func6():\n",
    "    validity=input(\"Enter the passwords :\")\n",
    "    lst=validity.split(',')\n",
    "    accepted_pass = []\n",
    "    for i in lst:\n",
    "        if len(i) < 6 or len(i) > 12:\n",
    "            continue\n",
    "        elif not re.search(\"([a-z])+\", i):\n",
    "            continue\n",
    "        elif not re.search(\"([A-Z])+\", i):\n",
    "            continue\n",
    "        elif not re.search(\"([0-9])+\", i):\n",
    "            continue\n",
    "        elif not re.search(\"([!@$%^&])+\", i):\n",
    "            continue\n",
    "        else:\n",
    "            accepted_pass.append(i)\n",
    "\n",
    "    return \" \".join(accepted_pass)\n",
    "func6()\n",
    "        "
   ]
  }
 ],
 "metadata": {
  "kernelspec": {
   "display_name": "Python 3 (ipykernel)",
   "language": "python",
   "name": "python3"
  },
  "language_info": {
   "codemirror_mode": {
    "name": "ipython",
    "version": 3
   },
   "file_extension": ".py",
   "mimetype": "text/x-python",
   "name": "python",
   "nbconvert_exporter": "python",
   "pygments_lexer": "ipython3",
   "version": "3.9.7"
  }
 },
 "nbformat": 4,
 "nbformat_minor": 5
}
