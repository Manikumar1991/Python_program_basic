{
 "cells": [
  {
   "cell_type": "code",
   "execution_count": 16,
   "id": "aa250aa2",
   "metadata": {},
   "outputs": [
    {
     "name": "stdout",
     "output_type": "stream",
     "text": [
      "{'a':1,'b':2,'c':3,'d':3}\n",
      "<class 'dict'>\n"
     ]
    },
    {
     "data": {
      "text/plain": [
       "[1, 2, 3]"
      ]
     },
     "execution_count": 16,
     "metadata": {},
     "output_type": "execute_result"
    }
   ],
   "source": [
    "#1.Write a Python program to Extract Unique values dictionary values?\n",
    "import pdb\n",
    "def extract():\n",
    "    d=eval(input())\n",
    "    print(type(d))\n",
    "    #pdb.set_trace()\n",
    "    l=[]\n",
    "    for i in d.values():\n",
    "        if i not in l:\n",
    "            l.append(i)\n",
    "    return l        \n",
    "extract()        "
   ]
  },
  {
   "cell_type": "code",
   "execution_count": 23,
   "id": "c6097243",
   "metadata": {},
   "outputs": [
    {
     "name": "stdout",
     "output_type": "stream",
     "text": [
      "{'a':1,'b':2,'c':3,'d':3}\n"
     ]
    },
    {
     "data": {
      "text/plain": [
       "('abcd', 9)"
      ]
     },
     "execution_count": 23,
     "metadata": {},
     "output_type": "execute_result"
    }
   ],
   "source": [
    "#2.Write a Python program to find the sum of all items in a dictionary?\n",
    "def sum_items():\n",
    "    d=eval(input())\n",
    "    sum_k=''   # based on the input data string type is initlized\n",
    "    sum_v=0    # based on the input data in type is initlized\n",
    "    for key,value in d.items():\n",
    "        sum_k=sum_k +key\n",
    "        sum_v=sum_v+valu\n",
    "    return sum_k , sum_v\n",
    "sum_items()\n",
    "        "
   ]
  },
  {
   "cell_type": "code",
   "execution_count": 33,
   "id": "fb1ad407",
   "metadata": {},
   "outputs": [
    {
     "name": "stdout",
     "output_type": "stream",
     "text": [
      "{'key1':100,'key2':200}  \n",
      "{'key3':'python','key4':'FSDS'}\n"
     ]
    },
    {
     "data": {
      "text/plain": [
       "{'key1': 100, 'key2': 200, 'key3': 'python', 'key4': 'FSDS'}"
      ]
     },
     "execution_count": 33,
     "metadata": {},
     "output_type": "execute_result"
    }
   ],
   "source": [
    "#3.Write a Python program to Merging two Dictionaries?\n",
    "def merge_dict():\n",
    "    d1=eval(input())\n",
    "    d2=eval(input())\n",
    "    for key,value in d2.items():\n",
    "        d1[key]=value\n",
    "    return d1\n",
    "merge_dict()\n",
    "        \n",
    "    "
   ]
  },
  {
   "cell_type": "code",
   "execution_count": 3,
   "id": "f5b28460",
   "metadata": {},
   "outputs": [
    {
     "name": "stdout",
     "output_type": "stream",
     "text": [
      "{'key1':100,'key2':200}  \n",
      "{'key3':'python','key4':'FSDS'}\n"
     ]
    },
    {
     "data": {
      "text/plain": [
       "{'key1': 100, 'key2': 200, 'key3': 'python', 'key4': 'FSDS'}"
      ]
     },
     "execution_count": 3,
     "metadata": {},
     "output_type": "execute_result"
    }
   ],
   "source": [
    "#Method2\n",
    "def merge_dict1():\n",
    "    d1=eval(input())\n",
    "    d2=eval(input())\n",
    "    merge=d1.update(d2)\n",
    "    return d1\n",
    "merge_dict1()"
   ]
  },
  {
   "cell_type": "code",
   "execution_count": 11,
   "id": "d31b9a6a",
   "metadata": {},
   "outputs": [
    {
     "name": "stdout",
     "output_type": "stream",
     "text": [
      "Original dictionary:  {'day': [1, 2, 3], 'name': ['Mon', 'Tues', 'Wed']}\n",
      "FLATTENED DICTIONARY:  {1: 'Mon', 2: 'Tues', 3: 'Wed'}\n"
     ]
    }
   ],
   "source": [
    "#4.Write a Python program to convert key-values list to flat dictionary?\n",
    "def convert_key_values():\n",
    "    dic= { \"day\": [1, 2, 3], \"name\": ['Mon', 'Tues', 'Wed' ] }\n",
    "    print(\"Original dictionary: \",dic)\n",
    "\n",
    "    # convert to flat dictionary\n",
    "\n",
    "    f_dic= dict(zip(dic[\"day\"], dic[\"name\"]))\n",
    "    print(\"FLATTENED DICTIONARY: \", f_dic)\n",
    "convert_key_values()               \n",
    "    "
   ]
  },
  {
   "cell_type": "code",
   "execution_count": 16,
   "id": "672837d0",
   "metadata": {},
   "outputs": [
    {
     "name": "stdout",
     "output_type": "stream",
     "text": [
      "[('A', '100'), ('B', '200'), ('C', '300')] \n",
      "[(\"D\", '400')]\n"
     ]
    },
    {
     "data": {
      "text/plain": [
       "OrderedDict([('D', '400'), ('A', '100'), ('B', '200'), ('C', '300')])"
      ]
     },
     "execution_count": 16,
     "metadata": {},
     "output_type": "execute_result"
    }
   ],
   "source": [
    "#5.Write a Python program to insertion at the beginning in OrderedDict?\n",
    "from collections import OrderedDict\n",
    "def ordereddict():\n",
    "    d1=eval(input())\n",
    "    d2=eval(input())\n",
    "    dic1 = OrderedDict(d1)\n",
    "    insrt = OrderedDict(d2)\n",
    "    final = OrderedDict(list(insrt.items()) + list(dic1.items()))\n",
    "    return final\n",
    "#[('A', '100'), ('B', '200'), ('C', '300')]  \n",
    "#[(\"D\", '400')]\n",
    "ordereddict()"
   ]
  },
  {
   "cell_type": "code",
   "execution_count": 18,
   "id": "e6f9c5cc",
   "metadata": {},
   "outputs": [
    {
     "name": "stdout",
     "output_type": "stream",
     "text": [
      "Original dictionary : OrderedDict([('A', '100'), ('B', '200'), ('C', '300'), ('D', '400')])\n",
      "Resultant Dictionary :\n",
      "OrderedDict([('D', '400'), ('A', '100'), ('B', '200'), ('C', '300')])\n"
     ]
    }
   ],
   "source": [
    "#Method2\n",
    "from collections import OrderedDict  \n",
    "dic1 = OrderedDict([('A', '100'), ('B', '200'), ('C', '300')])\n",
    "dic1.update({\"D\": '400'})\n",
    "print(\"Original dictionary :\",dic1)\n",
    "dic1.move_to_end(\"D\", last=False)\n",
    "print (\"Resultant Dictionary :\")\n",
    "print(dic1)"
   ]
  },
  {
   "cell_type": "code",
   "execution_count": 31,
   "id": "43034cb8",
   "metadata": {},
   "outputs": [
    {
     "name": "stdout",
     "output_type": "stream",
     "text": [
      "This is python FSDS\n",
      "FS\n"
     ]
    },
    {
     "data": {
      "text/plain": [
       "'The order of pattern is correct'"
      ]
     },
     "execution_count": 31,
     "metadata": {},
     "output_type": "execute_result"
    }
   ],
   "source": [
    "#6.Write a Python program to check order of character in string using OrderedDict()?\n",
    "from collections import OrderedDict\n",
    "def check_order():\n",
    "    my_input=input()\n",
    "    my_pattern=input()\n",
    "    my_dict=OrderedDict.fromkeys(my_input)\n",
    "    pattern_length = 0\n",
    "    for key,value in my_dict.items():\n",
    "        if (key == my_pattern[pattern_length]):\n",
    "            pattern_length = pattern_length + 1\n",
    "\n",
    "        if (pattern_length == (len(my_pattern))):\n",
    "            return 'The order of pattern is correct'\n",
    "\n",
    "    return 'The order of pattern is incorrect'\n",
    "check_order()"
   ]
  },
  {
   "cell_type": "code",
   "execution_count": 34,
   "id": "b408df8f",
   "metadata": {},
   "outputs": [
    {
     "name": "stdout",
     "output_type": "stream",
     "text": [
      "{1:'a',3:'b',2:'c'}\n",
      "1 2 3 "
     ]
    }
   ],
   "source": [
    "#7.Write a Python program to sort Python Dictionaries by Key or Value?\n",
    "def sort_dict():\n",
    "    d=eval(input())\n",
    "    for key in sorted(d.keys()):\n",
    "        print(key, end= \" \")\n",
    "sort_dict()        "
   ]
  },
  {
   "cell_type": "code",
   "execution_count": null,
   "id": "b7e5c87f",
   "metadata": {},
   "outputs": [],
   "source": []
  }
 ],
 "metadata": {
  "kernelspec": {
   "display_name": "Python 3 (ipykernel)",
   "language": "python",
   "name": "python3"
  },
  "language_info": {
   "codemirror_mode": {
    "name": "ipython",
    "version": 3
   },
   "file_extension": ".py",
   "mimetype": "text/x-python",
   "name": "python",
   "nbconvert_exporter": "python",
   "pygments_lexer": "ipython3",
   "version": "3.9.7"
  }
 },
 "nbformat": 4,
 "nbformat_minor": 5
}
