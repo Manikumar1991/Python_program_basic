{
 "cells": [
  {
   "cell_type": "code",
   "execution_count": 2,
   "id": "b01cd871",
   "metadata": {},
   "outputs": [
    {
     "name": "stdout",
     "output_type": "stream",
     "text": [
      "Hello python\n"
     ]
    }
   ],
   "source": [
    "#1.Write a Python program to print \"Hello Python\"?\n",
    "print(\"Hello python\")"
   ]
  },
  {
   "cell_type": "code",
   "execution_count": 5,
   "id": "d962b5df",
   "metadata": {},
   "outputs": [
    {
     "name": "stdout",
     "output_type": "stream",
     "text": [
      "12\n",
      "8.5\n",
      "Addition a and b is:  20.5\n",
      "Substraction a and b is:  3.5\n",
      "Multiplication a and b is:  102.0\n",
      "Division a and b is:  1.411764705882353\n"
     ]
    }
   ],
   "source": [
    "#2.Write a Python program to do arithmetical operations addition and division.?\n",
    "a=eval(input())\n",
    "b=eval(input())\n",
    "c=a+b\n",
    "d=a-b\n",
    "e=a*b\n",
    "f=a/b\n",
    "print(\"Addition a and b is: \", c)\n",
    "print(\"Substraction a and b is: \", d)\n",
    "print(\"Multiplication a and b is: \", e)\n",
    "print(\"Division a and b is: \", f)"
   ]
  },
  {
   "cell_type": "code",
   "execution_count": 6,
   "id": "4a22fa77",
   "metadata": {},
   "outputs": [
    {
     "name": "stdout",
     "output_type": "stream",
     "text": [
      "Enter the base :10\n",
      "Enter the height :5\n",
      "Area of the triangle is 25.0\n"
     ]
    }
   ],
   "source": [
    "#3.Write a Python program to find the area of a triangle?\n",
    "b=eval(input(\"Enter the base :\"))\n",
    "h=eval(input(\"Enter the height :\"))\n",
    "A=0.5*b*h  # Area of the traianble\n",
    "print(\"Area of the triangle is {}\".format(A))\n"
   ]
  },
  {
   "cell_type": "code",
   "execution_count": 9,
   "id": "9846262a",
   "metadata": {},
   "outputs": [
    {
     "name": "stdout",
     "output_type": "stream",
     "text": [
      "10\n",
      "20\n",
      "Values of a and b before swapping are 10 , 20\n",
      "Values of a and b after swapping are 20 , 10\n"
     ]
    }
   ],
   "source": [
    "#4.Write a Python program to swap two variables?\n",
    "a=eval(input())\n",
    "b=eval(input())\n",
    "print(\"Values of a and b before swapping are {} , {}\" .format(a,b))\n",
    "a,b=b,a\n",
    "print(\"Values of a and b after swapping are {} , {}\" .format(a,b))\n",
    "\n",
    "\n"
   ]
  },
  {
   "cell_type": "code",
   "execution_count": 25,
   "id": "ac1cf85b",
   "metadata": {},
   "outputs": [
    {
     "name": "stdout",
     "output_type": "stream",
     "text": [
      "86\n"
     ]
    }
   ],
   "source": [
    "#5.Write a Python program to generate a random number?\n",
    "import random\n",
    "print(random.randint(0,100))"
   ]
  }
 ],
 "metadata": {
  "kernelspec": {
   "display_name": "Python 3 (ipykernel)",
   "language": "python",
   "name": "python3"
  },
  "language_info": {
   "codemirror_mode": {
    "name": "ipython",
    "version": 3
   },
   "file_extension": ".py",
   "mimetype": "text/x-python",
   "name": "python",
   "nbconvert_exporter": "python",
   "pygments_lexer": "ipython3",
   "version": "3.9.7"
  }
 },
 "nbformat": 4,
 "nbformat_minor": 5
}
