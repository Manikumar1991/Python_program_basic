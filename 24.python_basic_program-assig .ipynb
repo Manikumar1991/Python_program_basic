{
 "cells": [
  {
   "cell_type": "code",
   "execution_count": null,
   "metadata": {
    "id": "Da06HoYD7DbD"
   },
   "outputs": [],
   "source": [
    "'''\n",
    "Question1\n",
    "Create a function that takes an integer and returns a list from 1 to the given number, where:\n",
    "1.\tIf the number can be divided evenly by 4, amplify it by 10 (i.e. return 10 times the number).\n",
    "2.\tIf the number cannot be divided evenly by 4, simply return the number.\n",
    "Examples\n",
    "amplify(4) ➞ [1, 2, 3, 40]\n",
    "\n",
    "amplify(3) ➞ [1, 2, 3]\n",
    "\n",
    "amplify(25) ➞ [1, 2, 3, 40, 5, 6, 7, 80, 9, 10, 11, 120, 13, 14, 15, 160, 17, 18, 19, 200, 21, 22, 23, 240, 25]\n",
    "Notes\n",
    "•\tThe given integer will always be equal to or greater than 1.\n",
    "•\tInclude the number (see example above).\n",
    "•\tTo perform this problem with its intended purpose, try doing it with list comprehensions. If that's too difficult, just solve the challenge any way \n",
    "you can.\n",
    "'''\n"
   ]
  },
  {
   "cell_type": "code",
   "execution_count": 1,
   "metadata": {
    "executionInfo": {
     "elapsed": 4,
     "status": "ok",
     "timestamp": 1645592287913,
     "user": {
      "displayName": "Mani Kumar",
      "photoUrl": "https://lh3.googleusercontent.com/a-/AOh14GiZWK3lR-wPVcBqdGMpCPcFoL4wRHFgq6q7MuGh=s64",
      "userId": "01348998259731810065"
     },
     "user_tz": -330
    },
    "id": "qW-I_wvC7J1T"
   },
   "outputs": [],
   "source": [
    "def amplify(num):\n",
    "  res=[]\n",
    "  for i in range(1,num+1):\n",
    "    if i%4==0:\n",
    "      res.append(10*i)\n",
    "    else:\n",
    "      res.append(i)\n",
    "  return res\n"
   ]
  },
  {
   "cell_type": "code",
   "execution_count": 2,
   "metadata": {
    "colab": {
     "base_uri": "https://localhost:8080/"
    },
    "executionInfo": {
     "elapsed": 342,
     "status": "ok",
     "timestamp": 1645592291801,
     "user": {
      "displayName": "Mani Kumar",
      "photoUrl": "https://lh3.googleusercontent.com/a-/AOh14GiZWK3lR-wPVcBqdGMpCPcFoL4wRHFgq6q7MuGh=s64",
      "userId": "01348998259731810065"
     },
     "user_tz": -330
    },
    "id": "ZEaw4Km38OXS",
    "outputId": "74796300-06f5-4322-cd1b-6789b2f7ad09"
   },
   "outputs": [
    {
     "data": {
      "text/plain": [
       "[1, 2, 3, 40]"
      ]
     },
     "execution_count": 2,
     "metadata": {},
     "output_type": "execute_result"
    }
   ],
   "source": [
    "amplify(4)"
   ]
  },
  {
   "cell_type": "code",
   "execution_count": 3,
   "metadata": {
    "colab": {
     "base_uri": "https://localhost:8080/"
    },
    "executionInfo": {
     "elapsed": 4,
     "status": "ok",
     "timestamp": 1645592300232,
     "user": {
      "displayName": "Mani Kumar",
      "photoUrl": "https://lh3.googleusercontent.com/a-/AOh14GiZWK3lR-wPVcBqdGMpCPcFoL4wRHFgq6q7MuGh=s64",
      "userId": "01348998259731810065"
     },
     "user_tz": -330
    },
    "id": "SAo0f3YP8QNI",
    "outputId": "c96a7bc2-cf16-448a-822b-932fb5474ef9"
   },
   "outputs": [
    {
     "data": {
      "text/plain": [
       "[1, 2, 3]"
      ]
     },
     "execution_count": 3,
     "metadata": {},
     "output_type": "execute_result"
    }
   ],
   "source": [
    "amplify(3)"
   ]
  },
  {
   "cell_type": "code",
   "execution_count": 4,
   "metadata": {
    "colab": {
     "base_uri": "https://localhost:8080/"
    },
    "executionInfo": {
     "elapsed": 6,
     "status": "ok",
     "timestamp": 1645592339707,
     "user": {
      "displayName": "Mani Kumar",
      "photoUrl": "https://lh3.googleusercontent.com/a-/AOh14GiZWK3lR-wPVcBqdGMpCPcFoL4wRHFgq6q7MuGh=s64",
      "userId": "01348998259731810065"
     },
     "user_tz": -330
    },
    "id": "OH3FwxJg8cYA",
    "outputId": "281ad619-a8c1-4a92-b6bc-335c17dfa3b8"
   },
   "outputs": [
    {
     "name": "stdout",
     "output_type": "stream",
     "text": [
      "[1, 2, 3, 40, 5, 6, 7, 80, 9, 10, 11, 120, 13, 14, 15, 160, 17, 18, 19, 200, 21, 22, 23, 240, 25]\n"
     ]
    }
   ],
   "source": [
    "print(amplify(25))"
   ]
  },
  {
   "cell_type": "markdown",
   "metadata": {
    "id": "oJBa81ug8duj"
   },
   "source": [
    "Question2\n",
    "Create a function that takes a list of numbers and return the number that's unique.\n",
    "Examples\n",
    "unique([3, 3, 3, 7, 3, 3]) ➞ 7\n",
    "\n",
    "unique([0, 0, 0.77, 0, 0]) ➞ 0.77\n",
    "\n",
    "unique([0, 1, 1, 1, 1, 1, 1, 1]) ➞ 0\n",
    "Notes\n",
    "Test cases will always have exactly one unique number while all others are the same."
   ]
  },
  {
   "cell_type": "code",
   "execution_count": 11,
   "metadata": {
    "executionInfo": {
     "elapsed": 339,
     "status": "ok",
     "timestamp": 1645592972557,
     "user": {
      "displayName": "Mani Kumar",
      "photoUrl": "https://lh3.googleusercontent.com/a-/AOh14GiZWK3lR-wPVcBqdGMpCPcFoL4wRHFgq6q7MuGh=s64",
      "userId": "01348998259731810065"
     },
     "user_tz": -330
    },
    "id": "AC6ujVh480fw"
   },
   "outputs": [],
   "source": [
    "def unique(lst):\n",
    "  d={}\n",
    "  for i in lst:\n",
    "    if i not in d:\n",
    "      d[i]=1\n",
    "    else:\n",
    "      d[i]=d[i]+1\n",
    "  for j in d:\n",
    "    if d[j]==1:\n",
    "      return j      \n"
   ]
  },
  {
   "cell_type": "code",
   "execution_count": 9,
   "metadata": {
    "colab": {
     "base_uri": "https://localhost:8080/"
    },
    "executionInfo": {
     "elapsed": 427,
     "status": "ok",
     "timestamp": 1645592974895,
     "user": {
      "displayName": "Mani Kumar",
      "photoUrl": "https://lh3.googleusercontent.com/a-/AOh14GiZWK3lR-wPVcBqdGMpCPcFoL4wRHFgq6q7MuGh=s64",
      "userId": "01348998259731810065"
     },
     "user_tz": -330
    },
    "id": "WUgbVWKW-qL7",
    "outputId": "52eda2ad-5ba6-4296-ffea-ecb61e1b81b1"
   },
   "outputs": [
    {
     "data": {
      "text/plain": [
       "7"
      ]
     },
     "execution_count": 9,
     "metadata": {},
     "output_type": "execute_result"
    }
   ],
   "source": [
    "unique([3, 3, 3, 7, 3, 3])"
   ]
  },
  {
   "cell_type": "code",
   "execution_count": 10,
   "metadata": {
    "colab": {
     "base_uri": "https://localhost:8080/"
    },
    "executionInfo": {
     "elapsed": 4,
     "status": "ok",
     "timestamp": 1645592983491,
     "user": {
      "displayName": "Mani Kumar",
      "photoUrl": "https://lh3.googleusercontent.com/a-/AOh14GiZWK3lR-wPVcBqdGMpCPcFoL4wRHFgq6q7MuGh=s64",
      "userId": "01348998259731810065"
     },
     "user_tz": -330
    },
    "id": "0Kn7nDp8-s1k",
    "outputId": "52d6db46-ee68-4847-c6bd-375b13296241"
   },
   "outputs": [
    {
     "data": {
      "text/plain": [
       "0.77"
      ]
     },
     "execution_count": 10,
     "metadata": {},
     "output_type": "execute_result"
    }
   ],
   "source": [
    "unique([0, 0, 0.77, 0, 0])"
   ]
  },
  {
   "cell_type": "code",
   "execution_count": 17,
   "metadata": {
    "colab": {
     "base_uri": "https://localhost:8080/"
    },
    "executionInfo": {
     "elapsed": 4,
     "status": "ok",
     "timestamp": 1645592990669,
     "user": {
      "displayName": "Mani Kumar",
      "photoUrl": "https://lh3.googleusercontent.com/a-/AOh14GiZWK3lR-wPVcBqdGMpCPcFoL4wRHFgq6q7MuGh=s64",
      "userId": "01348998259731810065"
     },
     "user_tz": -330
    },
    "id": "mtFqWATO_DSu",
    "outputId": "6c399359-4f4c-431b-d98d-79d61dd723c9"
   },
   "outputs": [
    {
     "data": {
      "text/plain": [
       "0"
      ]
     },
     "execution_count": 17,
     "metadata": {},
     "output_type": "execute_result"
    }
   ],
   "source": [
    "unique([0, 1, 1, 1, 1, 1, 1, 1])"
   ]
  },
  {
   "cell_type": "code",
   "execution_count": null,
   "metadata": {
    "id": "yilUE9zv_E8m"
   },
   "outputs": [],
   "source": [
    "'''\n",
    "\n",
    "Question3\n",
    "Your task is to create a Circle constructor that creates a circle with a radius provided by an argument. The circles constructed must have two getters\n",
    "getArea() (PIr^2) and getPerimeter() (2PI*r) which give both respective areas and perimeter (circumference).\n",
    "For help with this class, I have provided you with a Rectangle constructor which you can use as a base example.\n",
    "Examples\n",
    "circy = Circle(11)\n",
    "circy.getArea()\n",
    "\n",
    "# Should return 380.132711084365\n",
    "\n",
    "circy = Circle(4.44)\n",
    "circy.getPerimeter()\n",
    "\n",
    "# Should return 27.897342763877365\n",
    "Notes\n",
    "Round results up to the nearest integer.\n",
    "\n",
    "'''"
   ]
  },
  {
   "cell_type": "code",
   "execution_count": 24,
   "metadata": {
    "executionInfo": {
     "elapsed": 335,
     "status": "ok",
     "timestamp": 1645593701967,
     "user": {
      "displayName": "Mani Kumar",
      "photoUrl": "https://lh3.googleusercontent.com/a-/AOh14GiZWK3lR-wPVcBqdGMpCPcFoL4wRHFgq6q7MuGh=s64",
      "userId": "01348998259731810065"
     },
     "user_tz": -330
    },
    "id": "C75vlOGw_RyZ"
   },
   "outputs": [],
   "source": [
    "import math as m\n",
    "class Circle:\n",
    "  def __init__(self,radius):\n",
    "    self.radius=radius\n",
    "  def getArea(self):\n",
    "    return m.pi*m.pow(self.radius,2)\n",
    "  def getPerimeter(self):\n",
    "    return 2*m.pi*self.radius  "
   ]
  },
  {
   "cell_type": "code",
   "execution_count": 25,
   "metadata": {
    "colab": {
     "base_uri": "https://localhost:8080/"
    },
    "executionInfo": {
     "elapsed": 350,
     "status": "ok",
     "timestamp": 1645593724601,
     "user": {
      "displayName": "Mani Kumar",
      "photoUrl": "https://lh3.googleusercontent.com/a-/AOh14GiZWK3lR-wPVcBqdGMpCPcFoL4wRHFgq6q7MuGh=s64",
      "userId": "01348998259731810065"
     },
     "user_tz": -330
    },
    "id": "WIu5vUHZBZqM",
    "outputId": "b47c1eae-f253-4634-9eb6-2fc2e5240622"
   },
   "outputs": [
    {
     "data": {
      "text/plain": [
       "380.132711084365"
      ]
     },
     "execution_count": 25,
     "metadata": {},
     "output_type": "execute_result"
    }
   ],
   "source": [
    "circy = Circle(11)\n",
    "circy.getArea()"
   ]
  },
  {
   "cell_type": "code",
   "execution_count": 26,
   "metadata": {
    "colab": {
     "base_uri": "https://localhost:8080/"
    },
    "executionInfo": {
     "elapsed": 5,
     "status": "ok",
     "timestamp": 1645593739223,
     "user": {
      "displayName": "Mani Kumar",
      "photoUrl": "https://lh3.googleusercontent.com/a-/AOh14GiZWK3lR-wPVcBqdGMpCPcFoL4wRHFgq6q7MuGh=s64",
      "userId": "01348998259731810065"
     },
     "user_tz": -330
    },
    "id": "PloKaBlZBaml",
    "outputId": "fe2bfcae-bea2-4842-e94e-4002ee75e418"
   },
   "outputs": [
    {
     "data": {
      "text/plain": [
       "27.897342763877365"
      ]
     },
     "execution_count": 26,
     "metadata": {},
     "output_type": "execute_result"
    }
   ],
   "source": [
    "circy = Circle(4.44)\n",
    "circy.getPerimeter()"
   ]
  },
  {
   "cell_type": "code",
   "execution_count": null,
   "metadata": {
    "id": "mK2tpBAYB7op"
   },
   "outputs": [],
   "source": [
    "'''\n",
    "Question4\n",
    "Create a function that takes a list of strings and return a list, sorted from shortest to longest.\n",
    "Examples\n",
    "sort_by_length([\"Google\", \"Apple\", \"Microsoft\"])\n",
    "➞ [\"Apple\", \"Google\", \"Microsoft\"]\n",
    "\n",
    "sort_by_length([\"Leonardo\", \"Michelangelo\", \"Raphael\", \"Donatello\"])\n",
    "➞ [\"Raphael\", \"Leonardo\", \"Donatello\", \"Michelangelo\"]\n",
    "\n",
    "sort_by_length([\"Turing\", \"Einstein\", \"Jung\"])\n",
    "➞ [\"Jung\", \"Turing\", \"Einstein\"]\n",
    "Notes\n",
    "All test cases contain lists with strings of different lengths, so you won't have to deal with multiple strings of the same length.\n",
    "\n",
    "'''"
   ]
  },
  {
   "cell_type": "code",
   "execution_count": 40,
   "metadata": {
    "executionInfo": {
     "elapsed": 604,
     "status": "ok",
     "timestamp": 1645594553488,
     "user": {
      "displayName": "Mani Kumar",
      "photoUrl": "https://lh3.googleusercontent.com/a-/AOh14GiZWK3lR-wPVcBqdGMpCPcFoL4wRHFgq6q7MuGh=s64",
      "userId": "01348998259731810065"
     },
     "user_tz": -330
    },
    "id": "r8RAkz3ICE_B"
   },
   "outputs": [],
   "source": [
    "def sort_by_length(lst):\n",
    "  res=sorted(lst,key=len)\n",
    "  #lst.sort(key=len) # This ia another way to sort list\n",
    "  return res"
   ]
  },
  {
   "cell_type": "code",
   "execution_count": 41,
   "metadata": {
    "colab": {
     "base_uri": "https://localhost:8080/"
    },
    "executionInfo": {
     "elapsed": 424,
     "status": "ok",
     "timestamp": 1645594724988,
     "user": {
      "displayName": "Mani Kumar",
      "photoUrl": "https://lh3.googleusercontent.com/a-/AOh14GiZWK3lR-wPVcBqdGMpCPcFoL4wRHFgq6q7MuGh=s64",
      "userId": "01348998259731810065"
     },
     "user_tz": -330
    },
    "id": "UER3iZnVDeQs",
    "outputId": "9acb01f7-9c9e-4b54-b317-f2f3a361bb44"
   },
   "outputs": [
    {
     "data": {
      "text/plain": [
       "['Apple', 'Google', 'Microsoft']"
      ]
     },
     "execution_count": 41,
     "metadata": {},
     "output_type": "execute_result"
    }
   ],
   "source": [
    "sort_by_length([\"Google\", \"Apple\", \"Microsoft\"])"
   ]
  },
  {
   "cell_type": "code",
   "execution_count": null,
   "metadata": {
    "id": "j2wjbXTkHe_m"
   },
   "outputs": [],
   "source": []
  },
  {
   "cell_type": "code",
   "execution_count": 32,
   "metadata": {
    "colab": {
     "base_uri": "https://localhost:8080/"
    },
    "executionInfo": {
     "elapsed": 5,
     "status": "ok",
     "timestamp": 1645594302480,
     "user": {
      "displayName": "Mani Kumar",
      "photoUrl": "https://lh3.googleusercontent.com/a-/AOh14GiZWK3lR-wPVcBqdGMpCPcFoL4wRHFgq6q7MuGh=s64",
      "userId": "01348998259731810065"
     },
     "user_tz": -330
    },
    "id": "tTPwWuOaEBku",
    "outputId": "9e4f5e06-8d96-4c73-b462-b1abf88e9ead"
   },
   "outputs": [
    {
     "data": {
      "text/plain": [
       "['Donatello', 'Leonardo', 'Michelangelo', 'Raphael']"
      ]
     },
     "execution_count": 32,
     "metadata": {},
     "output_type": "execute_result"
    }
   ],
   "source": [
    "sort_by_length([\"Leonardo\", \"Michelangelo\", \"Raphael\", \"Donatello\"])"
   ]
  },
  {
   "cell_type": "code",
   "execution_count": 42,
   "metadata": {
    "colab": {
     "base_uri": "https://localhost:8080/"
    },
    "executionInfo": {
     "elapsed": 4,
     "status": "ok",
     "timestamp": 1645594752944,
     "user": {
      "displayName": "Mani Kumar",
      "photoUrl": "https://lh3.googleusercontent.com/a-/AOh14GiZWK3lR-wPVcBqdGMpCPcFoL4wRHFgq6q7MuGh=s64",
      "userId": "01348998259731810065"
     },
     "user_tz": -330
    },
    "id": "qZtDaoBtEFVY",
    "outputId": "50410fdc-5eca-4e57-9948-f1e0b9280d88"
   },
   "outputs": [
    {
     "data": {
      "text/plain": [
       "['Jung', 'Turing', 'Einstein']"
      ]
     },
     "execution_count": 42,
     "metadata": {},
     "output_type": "execute_result"
    }
   ],
   "source": [
    "sort_by_length([\"Turing\", \"Einstein\", \"Jung\"])"
   ]
  },
  {
   "cell_type": "code",
   "execution_count": 44,
   "metadata": {
    "executionInfo": {
     "elapsed": 379,
     "status": "ok",
     "timestamp": 1645595220840,
     "user": {
      "displayName": "Mani Kumar",
      "photoUrl": "https://lh3.googleusercontent.com/a-/AOh14GiZWK3lR-wPVcBqdGMpCPcFoL4wRHFgq6q7MuGh=s64",
      "userId": "01348998259731810065"
     },
     "user_tz": -330
    },
    "id": "Jux11ZA-FzHH"
   },
   "outputs": [],
   "source": [
    "#Method2\n",
    "import numpy \n",
    "def sort_by_length1(lst):\n",
    "    lenlist=[]   \n",
    "    for x in lst:\n",
    "         lenlist.append(len(x))     \n",
    "    sortedindex = numpy.argsort(lenlist)  \n",
    "    lst2 = ['dummy']*len(lst)   \n",
    "    for i in range(len(lst)):    \n",
    "        lst2[i] = lst[sortedindex[i]]                                           \n",
    "    return lst2"
   ]
  },
  {
   "cell_type": "code",
   "execution_count": 45,
   "metadata": {
    "colab": {
     "base_uri": "https://localhost:8080/"
    },
    "executionInfo": {
     "elapsed": 367,
     "status": "ok",
     "timestamp": 1645595224277,
     "user": {
      "displayName": "Mani Kumar",
      "photoUrl": "https://lh3.googleusercontent.com/a-/AOh14GiZWK3lR-wPVcBqdGMpCPcFoL4wRHFgq6q7MuGh=s64",
      "userId": "01348998259731810065"
     },
     "user_tz": -330
    },
    "id": "-4imFH98Hgqy",
    "outputId": "3fb5ff88-205a-4ff5-fd66-0fa3c492d175"
   },
   "outputs": [
    {
     "data": {
      "text/plain": [
       "['Apple', 'Google', 'Microsoft']"
      ]
     },
     "execution_count": 45,
     "metadata": {},
     "output_type": "execute_result"
    }
   ],
   "source": [
    "sort_by_length1([\"Google\", \"Apple\", \"Microsoft\"])"
   ]
  },
  {
   "cell_type": "code",
   "execution_count": 46,
   "metadata": {
    "colab": {
     "base_uri": "https://localhost:8080/"
    },
    "executionInfo": {
     "elapsed": 5,
     "status": "ok",
     "timestamp": 1645595237296,
     "user": {
      "displayName": "Mani Kumar",
      "photoUrl": "https://lh3.googleusercontent.com/a-/AOh14GiZWK3lR-wPVcBqdGMpCPcFoL4wRHFgq6q7MuGh=s64",
      "userId": "01348998259731810065"
     },
     "user_tz": -330
    },
    "id": "_3EWfLbIHhkd",
    "outputId": "96456a1d-dfda-4f0b-ad31-ee1c5d2d57fc"
   },
   "outputs": [
    {
     "data": {
      "text/plain": [
       "['Raphael', 'Leonardo', 'Donatello', 'Michelangelo']"
      ]
     },
     "execution_count": 46,
     "metadata": {},
     "output_type": "execute_result"
    }
   ],
   "source": [
    "sort_by_length1([\"Leonardo\", \"Michelangelo\", \"Raphael\", \"Donatello\"])"
   ]
  },
  {
   "cell_type": "code",
   "execution_count": 47,
   "metadata": {
    "colab": {
     "base_uri": "https://localhost:8080/"
    },
    "executionInfo": {
     "elapsed": 4,
     "status": "ok",
     "timestamp": 1645595249752,
     "user": {
      "displayName": "Mani Kumar",
      "photoUrl": "https://lh3.googleusercontent.com/a-/AOh14GiZWK3lR-wPVcBqdGMpCPcFoL4wRHFgq6q7MuGh=s64",
      "userId": "01348998259731810065"
     },
     "user_tz": -330
    },
    "id": "_bn1M95IHpZX",
    "outputId": "b7a63dd0-2527-4c11-d66c-8d7a6c7c13f1"
   },
   "outputs": [
    {
     "data": {
      "text/plain": [
       "['Jung', 'Turing', 'Einstein']"
      ]
     },
     "execution_count": 47,
     "metadata": {},
     "output_type": "execute_result"
    }
   ],
   "source": [
    "sort_by_length([\"Turing\", \"Einstein\", \"Jung\"])"
   ]
  },
  {
   "cell_type": "code",
   "execution_count": 48,
   "metadata": {
    "executionInfo": {
     "elapsed": 347,
     "status": "ok",
     "timestamp": 1645595323966,
     "user": {
      "displayName": "Mani Kumar",
      "photoUrl": "https://lh3.googleusercontent.com/a-/AOh14GiZWK3lR-wPVcBqdGMpCPcFoL4wRHFgq6q7MuGh=s64",
      "userId": "01348998259731810065"
     },
     "user_tz": -330
    },
    "id": "1DE5lTgGHslq"
   },
   "outputs": [],
   "source": [
    "'''\n",
    "Question5\n",
    "Create a function that validates whether three given integers form a Pythagorean triplet. The sum of the squares of the two smallest integers must \n",
    "equal the square of the largest number to be validated.\n",
    "\n",
    "Examples\n",
    "is_triplet(3, 4, 5) ➞ True\n",
    "# 3² + 4² = 25\n",
    "# 5² = 25\n",
    "\n",
    "is_triplet(13, 5, 12) ➞ True\n",
    "# 5² + 12² = 169\n",
    "# 13² = 169\n",
    "\n",
    "is_triplet(1, 2, 3) ➞ False\n",
    "# 1² + 2² = 5\n",
    "# 3² = 9\n",
    "Notes\n",
    "Numbers may not be given in a sorted order.\n",
    "\n",
    "'''"
   ]
  },
  {
   "cell_type": "code",
   "execution_count": 64,
   "metadata": {
    "executionInfo": {
     "elapsed": 3,
     "status": "ok",
     "timestamp": 1645597933680,
     "user": {
      "displayName": "Mani Kumar",
      "photoUrl": "https://lh3.googleusercontent.com/a-/AOh14GiZWK3lR-wPVcBqdGMpCPcFoL4wRHFgq6q7MuGh=s64",
      "userId": "01348998259731810065"
     },
     "user_tz": -330
    },
    "id": "Abh371j3HzaQ"
   },
   "outputs": [],
   "source": [
    "import math as m\n",
    "def is_triplet(a,b,c):\n",
    "  if a>b and a>c:\n",
    "    if m.pow(a,2)==m.pow(b,2)+m.pow(c,2):\n",
    "      return True\n",
    "  elif b>c and b>a:\n",
    "    if m.pow(b,2)==m.pow(a,2)+m.pow(c,2):\n",
    "      return True\n",
    "  elif c>a and c>b:\n",
    "    if m.pow(c,2)==m.pow(a,2)+m.pow(b,2):\n",
    "      return True\n",
    "  return False\n",
    "\n"
   ]
  },
  {
   "cell_type": "code",
   "execution_count": 65,
   "metadata": {
    "colab": {
     "base_uri": "https://localhost:8080/"
    },
    "executionInfo": {
     "elapsed": 4,
     "status": "ok",
     "timestamp": 1645597935494,
     "user": {
      "displayName": "Mani Kumar",
      "photoUrl": "https://lh3.googleusercontent.com/a-/AOh14GiZWK3lR-wPVcBqdGMpCPcFoL4wRHFgq6q7MuGh=s64",
      "userId": "01348998259731810065"
     },
     "user_tz": -330
    },
    "id": "wm6wWC7cRkHI",
    "outputId": "9699e16f-247f-4392-9c94-fc999224784f"
   },
   "outputs": [
    {
     "data": {
      "text/plain": [
       "True"
      ]
     },
     "execution_count": 65,
     "metadata": {},
     "output_type": "execute_result"
    }
   ],
   "source": [
    "is_triplet(3, 4, 5)"
   ]
  },
  {
   "cell_type": "code",
   "execution_count": 66,
   "metadata": {
    "colab": {
     "base_uri": "https://localhost:8080/"
    },
    "executionInfo": {
     "elapsed": 4,
     "status": "ok",
     "timestamp": 1645597936866,
     "user": {
      "displayName": "Mani Kumar",
      "photoUrl": "https://lh3.googleusercontent.com/a-/AOh14GiZWK3lR-wPVcBqdGMpCPcFoL4wRHFgq6q7MuGh=s64",
      "userId": "01348998259731810065"
     },
     "user_tz": -330
    },
    "id": "vRjSDOfYRn8g",
    "outputId": "93080fde-2422-4263-c60a-db0a8af4e2a3"
   },
   "outputs": [
    {
     "data": {
      "text/plain": [
       "True"
      ]
     },
     "execution_count": 66,
     "metadata": {},
     "output_type": "execute_result"
    }
   ],
   "source": [
    "is_triplet(13, 5, 12) "
   ]
  },
  {
   "cell_type": "code",
   "execution_count": 67,
   "metadata": {
    "colab": {
     "base_uri": "https://localhost:8080/"
    },
    "executionInfo": {
     "elapsed": 4,
     "status": "ok",
     "timestamp": 1645597938109,
     "user": {
      "displayName": "Mani Kumar",
      "photoUrl": "https://lh3.googleusercontent.com/a-/AOh14GiZWK3lR-wPVcBqdGMpCPcFoL4wRHFgq6q7MuGh=s64",
      "userId": "01348998259731810065"
     },
     "user_tz": -330
    },
    "id": "od0K7CaRRqoG",
    "outputId": "7fac895e-426a-42e4-e109-22569703e27f"
   },
   "outputs": [
    {
     "data": {
      "text/plain": [
       "False"
      ]
     },
     "execution_count": 67,
     "metadata": {},
     "output_type": "execute_result"
    }
   ],
   "source": [
    "is_triplet(1, 2, 3) "
   ]
  }
 ],
 "metadata": {
  "colab": {
   "authorship_tag": "ABX9TyOeGXW8md1kj+mIefLKTFvO",
   "collapsed_sections": [],
   "name": "24.python_basic_program-assig.ipynb",
   "provenance": []
  },
  "kernelspec": {
   "display_name": "Python 3 (ipykernel)",
   "language": "python",
   "name": "python3"
  },
  "language_info": {
   "codemirror_mode": {
    "name": "ipython",
    "version": 3
   },
   "file_extension": ".py",
   "mimetype": "text/x-python",
   "name": "python",
   "nbconvert_exporter": "python",
   "pygments_lexer": "ipython3",
   "version": "3.9.7"
  }
 },
 "nbformat": 4,
 "nbformat_minor": 1
}
