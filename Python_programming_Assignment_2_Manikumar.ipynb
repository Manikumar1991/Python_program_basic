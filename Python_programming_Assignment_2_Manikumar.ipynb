{
  "nbformat": 4,
  "nbformat_minor": 0,
  "metadata": {
    "colab": {
      "name": "Assignment_6.ipynb",
      "provenance": [],
      "collapsed_sections": []
    },
    "kernelspec": {
      "name": "python3",
      "display_name": "Python 3"
    },
    "language_info": {
      "name": "python"
    }
  },
  "cells": [
    {
      "cell_type": "markdown",
      "source": [
        ""
      ],
      "metadata": {
        "id": "K6nCHCvE8nvk"
      }
    },
    {
      "cell_type": "code",
      "source": [
        "#1.Write a Python program to convert kilometers to miles?\n",
        "km=eval(input(\"Enter the distance in km :\"))\n",
        "factor=0.62137\n",
        "miles=factor*km\n",
        "print('{} km is equal to {} miles '.format(km,miles))"
      ],
      "metadata": {
        "colab": {
          "base_uri": "https://localhost:8080/"
        },
        "id": "UAGMp1ZVfWVB",
        "outputId": "542a1ef8-0f8b-4805-ff82-673af849422f"
      },
      "execution_count": 8,
      "outputs": [
        {
          "output_type": "stream",
          "name": "stdout",
          "text": [
            "Enter the distance in km :123.4556\n",
            "123.4556 km is equal to 76.711606172 miles \n"
          ]
        }
      ]
    },
    {
      "cell_type": "code",
      "source": [
        "#2.Write a Python program to convert Celsius to Fahrenheit?\n",
        "celsius = eval(input(\"Enter the temperature in celsius :\"))\n",
        "fahrenheit = (celsius *1.8) + 32\n",
        "print('%0.5f degree celsius is equal to %0.3f Fahrenheit' % (celsius,fahrenheit))"
      ],
      "metadata": {
        "colab": {
          "base_uri": "https://localhost:8080/"
        },
        "id": "QW3UrXmWfx2m",
        "outputId": "e462a945-ee16-4e3e-ba8e-3e9da853ab06"
      },
      "execution_count": 9,
      "outputs": [
        {
          "output_type": "stream",
          "name": "stdout",
          "text": [
            "Enter the temperature in celsius :135.12365\n",
            "135.12365 degree celsius is equal to 275.223 Fahrenheit\n"
          ]
        }
      ]
    },
    {
      "cell_type": "code",
      "source": [
        "#3.Write a Python program to display calendar?\n",
        "import calendar\n",
        "year=eval(input(\"Enter the year : \"))\n",
        "month=eval(input(\"Enter the month : \"))\n",
        "print(calendar.month(year,month))"
      ],
      "metadata": {
        "colab": {
          "base_uri": "https://localhost:8080/"
        },
        "id": "tmEtKNXGvzVO",
        "outputId": "731402ba-b0af-4e5c-ba90-c24e66a89621"
      },
      "execution_count": 7,
      "outputs": [
        {
          "output_type": "stream",
          "name": "stdout",
          "text": [
            "Enter the year : 2022\n",
            "Enter the month : 2\n",
            "   February 2022\n",
            "Mo Tu We Th Fr Sa Su\n",
            "    1  2  3  4  5  6\n",
            " 7  8  9 10 11 12 13\n",
            "14 15 16 17 18 19 20\n",
            "21 22 23 24 25 26 27\n",
            "28\n",
            "\n"
          ]
        }
      ]
    },
    {
      "cell_type": "code",
      "source": [
        "#4.Write a Python program to solve quadratic equation?\n",
        "# Solve the quadratic equation ax**2 + bx + c = 0\n",
        "\n",
        "import cmath    # import complex math module\n",
        "\n",
        "a = eval(input())\n",
        "b = eval(input())\n",
        "c = eval(input())\n",
        "\n",
        "# calculate the discriminant\n",
        "d = (b**2) - (4*a*c)\n",
        "# find two solutions\n",
        "sol1 = (-b-cmath.sqrt(d))/(2*a)\n",
        "sol2 = (-b+cmath.sqrt(d))/(2*a)\n",
        "\n",
        "print('The solution are {} and {}'.format(sol1,sol2))"
      ],
      "metadata": {
        "colab": {
          "base_uri": "https://localhost:8080/"
        },
        "id": "mqNIQmP7v2ZD",
        "outputId": "403b172a-9190-40d7-8b9b-e8453322b7ab"
      },
      "execution_count": 12,
      "outputs": [
        {
          "output_type": "stream",
          "name": "stdout",
          "text": [
            "2\n",
            "3\n",
            "3\n",
            "The solution are (-0.75-0.9682458365518543j) and (-0.75+0.9682458365518543j)\n"
          ]
        }
      ]
    },
    {
      "cell_type": "code",
      "source": [
        "#5.Write a Python program to swap two variables without temp variable?\n",
        "var1=input()\n",
        "var2=input()\n",
        "print(\"Before swapping\")\n",
        "print(\"var1 is\", var1,\"var2 is\",var2)\n",
        "var1,var2=var2,var1\n",
        "print(\"After swapping\")\n",
        "print(\"var1 is\", var1,\"var2 is\",var2)"
      ],
      "metadata": {
        "colab": {
          "base_uri": "https://localhost:8080/"
        },
        "id": "c9iyTTTnyhsJ",
        "outputId": "bba05bbb-ac45-490d-8191-64e4b5915d27"
      },
      "execution_count": 13,
      "outputs": [
        {
          "output_type": "stream",
          "name": "stdout",
          "text": [
            "Python\n",
            "FSDS\n",
            "Before swapping\n",
            "var1 is Python var2 is FSDS\n",
            "After swapping\n",
            "var1 is FSDS var2 is Python\n"
          ]
        }
      ]
    },
    {
      "cell_type": "code",
      "source": [
        ""
      ],
      "metadata": {
        "id": "CewZtasozCoq"
      },
      "execution_count": null,
      "outputs": []
    }
  ]
}