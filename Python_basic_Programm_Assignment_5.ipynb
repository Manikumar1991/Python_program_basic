{
  "nbformat": 4,
  "nbformat_minor": 0,
  "metadata": {
    "colab": {
      "name": "Python_basic_Programm_Assignment_5.ipynb",
      "provenance": [],
      "collapsed_sections": []
    },
    "kernelspec": {
      "name": "python3",
      "display_name": "Python 3"
    },
    "language_info": {
      "name": "python"
    }
  },
  "cells": [
    {
      "cell_type": "code",
      "execution_count": null,
      "metadata": {
        "colab": {
          "base_uri": "https://localhost:8080/"
        },
        "id": "8jNRdEyUMU1J",
        "outputId": "75db3846-ef24-4a1e-fa79-553ffc602def"
      },
      "outputs": [
        {
          "output_type": "execute_result",
          "data": {
            "text/plain": [
              "7552"
            ]
          },
          "metadata": {},
          "execution_count": 8
        }
      ],
      "source": [
        "#1.Write a Python Program to Find LCM?\n",
        "def lcm(x,y):\n",
        "  if x>y:\n",
        "    greater=x\n",
        "  else:\n",
        "    greater=y\n",
        "  while(True):\n",
        "    if (greater%x==0) and (greater%y==0):\n",
        "      lcm=greater\n",
        "      break\n",
        "    greater=greater+1\n",
        "    #print(greater) # checking the fisrt common factor of x and y\n",
        "  return lcm\n",
        "lcm(128,236)           "
      ]
    },
    {
      "cell_type": "code",
      "source": [
        "#2.Write a Python Program to Find HCF?\n",
        "def hcf(x,y):\n",
        "  if x>y:\n",
        "    smaller=y\n",
        "  else:\n",
        "    smaller=x\n",
        "  for i in range(1,smaller+1):\n",
        "    if (x%i==0) and (y%i==0):\n",
        "      hcf=i # here common factor are 1,2,3,6..we are not storing values so it will replace with new factors\n",
        "  return hcf\n",
        "hcf(54,24)\n",
        "\n",
        "\n"
      ],
      "metadata": {
        "colab": {
          "base_uri": "https://localhost:8080/"
        },
        "id": "S-ZFdvuFM3ez",
        "outputId": "273d2c8a-3230-4762-a9e1-c1ea6acc864a"
      },
      "execution_count": null,
      "outputs": [
        {
          "output_type": "execute_result",
          "data": {
            "text/plain": [
              "6"
            ]
          },
          "metadata": {},
          "execution_count": 3
        }
      ]
    },
    {
      "cell_type": "code",
      "source": [
        "#3.Write a Python Program to Convert Decimal to Binary, Octal and Hexadecimal?\n",
        "dec = int(input(\"Enter an integer: \"))\n",
        "print(\"The decimal value of\",dec,\"is:\")\n",
        "print(bin(dec),\"in binary.\")\n",
        "print(oct(dec),\"in octal.\")\n",
        "print(hex(dec),\"in hexadecimal.\")"
      ],
      "metadata": {
        "colab": {
          "base_uri": "https://localhost:8080/"
        },
        "id": "_3YdJIwARK9Z",
        "outputId": "b6383f83-dfce-4805-ab98-4e4319459d25"
      },
      "execution_count": null,
      "outputs": [
        {
          "output_type": "stream",
          "name": "stdout",
          "text": [
            "Enter an integer: 128\n",
            "The decimal value of 128 is:\n",
            "0b10000000 in binary.\n",
            "0o200 in octal.\n",
            "0x80 in hexadecimal.\n"
          ]
        }
      ]
    },
    {
      "cell_type": "code",
      "source": [
        "#4.Write a Python Program To Find ASCII value of a character?\n",
        "def ascii(*args):\n",
        "  x=input(\"Enter the charcter:\")\n",
        "  return 'The ASCII character of \" + str(x) + \" is', ord(x)\n",
        "ascii()  "
      ],
      "metadata": {
        "colab": {
          "base_uri": "https://localhost:8080/"
        },
        "id": "bD8PBTg2bPT5",
        "outputId": "779b1950-a840-4e38-c477-83a7d261a19a"
      },
      "execution_count": null,
      "outputs": [
        {
          "name": "stdout",
          "output_type": "stream",
          "text": [
            "Enter the charcter:g\n"
          ]
        },
        {
          "output_type": "execute_result",
          "data": {
            "text/plain": [
              "('The ASCII character of \" + str(x) + \" is', 103)"
            ]
          },
          "metadata": {},
          "execution_count": 12
        }
      ]
    },
    {
      "cell_type": "code",
      "source": [
        "#5.Write a Python Program to Make a Simple Calculator with 4 basic mathematical operations?\n",
        "def calculator():\n",
        "  a=eval(input(\"Enter the value :\"))\n",
        "  b=eval(input(\"Enter the value :\"))\n",
        "  try:\n",
        "    c=a+b\n",
        "    print(\"The sum is\", c)\n",
        "  except Exception as e:\n",
        "    print(e)\n",
        "  try:     \n",
        "    d=a-b\n",
        "    print(\"The substraction is\", d)\n",
        "  except Exception as e:\n",
        "    print(e)\n",
        "  try:    \n",
        "    e=a/b\n",
        "    print(\"The division is \", e)\n",
        "  except Exception as e:\n",
        "    print(e)\n",
        "  try:    \n",
        "    f=a*b\n",
        "    print(\"The multiplication is\", f)  \n",
        "  except Exception as e:\n",
        "    print(e)\n",
        "  finally:\n",
        "    print(\"The execution completed\")    \n",
        "calculator()    "
      ],
      "metadata": {
        "id": "Zpbpkc7qdBaa",
        "colab": {
          "base_uri": "https://localhost:8080/"
        },
        "outputId": "a32e6b69-f533-4137-c554-22685e192daa"
      },
      "execution_count": 6,
      "outputs": [
        {
          "output_type": "stream",
          "name": "stdout",
          "text": [
            "Enter the value :10\n",
            "Enter the value :0\n",
            "The sum is 10\n",
            "The substraction is 10\n",
            "division by zero\n",
            "The multiplication is 0\n",
            "The execution completed\n"
          ]
        }
      ]
    },
    {
      "cell_type": "code",
      "source": [
        "10"
      ],
      "metadata": {
        "id": "jpnFLK6-qlHJ"
      },
      "execution_count": null,
      "outputs": []
    }
  ]
}